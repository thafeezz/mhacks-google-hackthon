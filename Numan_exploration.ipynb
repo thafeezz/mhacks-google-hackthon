{
 "cells": [
  {
   "cell_type": "code",
   "execution_count": 35,
   "metadata": {},
   "outputs": [],
   "source": [
    "import google.generativeai as genai\n",
    "from dotenv import load_dotenv\n",
    "import os\n",
    "import logging\n",
    "import requests\n",
    "import json\n",
    "import pandas as pd\n",
    "\n",
    "# Load environment variables\n",
    "load_dotenv()\n",
    "\n",
    "# Configure logging\n",
    "logging.basicConfig(level=logging.INFO)"
   ]
  },
  {
   "cell_type": "code",
   "execution_count": 36,
   "metadata": {},
   "outputs": [],
   "source": [
    "def setup_genai():\n",
    "    # Retrieve your API key from environment variables\n",
    "    google_api_key = os.getenv('GOOGLE_API_KEY')\n",
    "    if not google_api_key:\n",
    "        logging.error(\"Google API key is not set.\")\n",
    "        raise ValueError(\"Google API key is not set.\")\n",
    "    genai.configure(api_key=google_api_key)\n",
    "    return genai\n",
    "\n",
    "def get_user_input():\n",
    "    company_name = input(\"What is your company name and what does it do? \")\n",
    "    product_details = input(\"What is the product you are selling and what does it do? \")\n",
    "    organization_size = input(\"How large is your organization? \")\n",
    "    product_differentiator = input(\"What is one differentiator for your product compared to the marketplace? \")\n",
    "    \n",
    "    return {\n",
    "        \"company_name\": company_name,\n",
    "        \"product_details\": product_details,\n",
    "        \"organization_size\": organization_size,\n",
    "        \"product_differentiator\": product_differentiator\n",
    "    }\n",
    "\n",
    "def analyze_audio_ads(audio_ad_paths, genai_client):\n",
    "    analysis_results = []\n",
    "    model = genai.GenerativeModel('models/gemini-1.5-pro-latest')\n",
    "    for path in audio_ad_paths:\n",
    "        try:\n",
    "            file_handle = genai_client.upload_file(path=path)\n",
    "            prompt_summary = \"Listen carefully to the following audio file. Provide a brief summary.\"\n",
    "            prompt_sentiment = \"Listen carefully to the following audio file. Analyze the sentiment.\"\n",
    "            summary = model.generate_content([prompt_summary, file_handle])\n",
    "            sentiment = model.generate_content([prompt_sentiment, file_handle])\n",
    "            analysis_results.append((file_handle, summary.text, sentiment.text))\n",
    "            logging.info(f\"Audio analysis completed for: {path}\")\n",
    "        except Exception as e:\n",
    "            logging.error(f\"Error in audio ad analysis: {e}\")\n",
    "    return analysis_results\n",
    "\n",
    "def generate_ad_script(analysis_results, context):\n",
    "    genai_client = setup_genai()\n",
    "    model = genai.GenerativeModel('models/gemini-1.5-pro-latest')\n",
    "    try:\n",
    "        combined_context = \"\\n\".join(\n",
    "            f\"Context: {context}, Summary: {summary}, Sentiment: {sentiment}\"\n",
    "            for _, summary, sentiment in analysis_results\n",
    "        )\n",
    "        prompt = f\"Generate an engaging audio ad script based on the provided context and audio analysis: '{combined_context}'. Provide only the narrator script, do not not\\ \n",
    "        include any reference to music or sounds, I only what what will be spoken.\"\n",
    "        response = model.generate_content([prompt])\n",
    "        return response.text\n",
    "    except Exception as e:\n",
    "        logging.error(f\"Error generating ad script: {e}\")\n",
    "        raise\n",
    "\n",
    "def save_ad_script(ad_script, output_path):\n",
    "    try:\n",
    "        with open(output_path, 'w') as f:\n",
    "            f.write(ad_script)\n",
    "        logging.info(f\"Ad script saved successfully: {output_path}\")\n",
    "    except Exception as e:\n",
    "        logging.error(f\"Error saving ad script: {e}\")\n",
    "        raise\n"
   ]
  },
  {
   "cell_type": "code",
   "execution_count": 37,
   "metadata": {},
   "outputs": [
    {
     "name": "stderr",
     "output_type": "stream",
     "text": [
      "INFO:root:Audio analysis completed for: Apple_Ad_1.mp3\n",
      "INFO:root:Audio analysis completed for: Apple_Ad_2.mp3\n",
      "INFO:root:Audio analysis completed for: Radio_Shack_ad.mp3\n",
      "INFO:root:Ad script saved successfully: generated_ad_script.txt\n"
     ]
    },
    {
     "name": "stdout",
     "output_type": "stream",
     "text": [
      "Generated Ad Script:\n",
      "(Energetic, friendly voice)\n",
      "\n",
      "Tired of your phone dying before the day is even over? Introducing the Pear Phone 5, the phone that finally keeps up with YOU. \n",
      "\n",
      "That's right, the Pear Phone 5 boasts an incredible 36-hour battery life. Go ahead, binge-watch your favorite shows, conquer your gaming goals, or video chat with loved ones all day long - without worrying about a dead battery.\n",
      "\n",
      "And the experience doesn't stop there. Feast your eyes on the stunning 6.8-inch 8K display with a silky smooth 120Hz refresh rate. Whether you're scrolling through photos, watching movies, or playing games, everything will look unbelievably sharp and fluid. \n",
      "\n",
      "At Pear, we're 15,000 dedicated employees strong, driven by innovation and a passion for creating technology that makes your life better. The Pear Phone 5 is a testament to that commitment, setting a new standard for battery life and visual excellence.\n",
      "\n",
      "Don't settle for less. Choose the phone that goes the distance. Choose Pear Phone 5. Available now. \n",
      "\n"
     ]
    }
   ],
   "source": [
    "if __name__ == \"__main__\":\n",
    "    user_responses = get_user_input()\n",
    "    context = (\n",
    "        f\"Introducing a new product from {user_responses['company_name']}, \"\n",
    "        f\"designed for {user_responses['product_details']}. Our company size is \"\n",
    "        f\"{user_responses['organization_size']} and we stand out by {user_responses['product_differentiator']}.\"\n",
    "    )\n",
    "\n",
    "    audio_ad_paths = [\"Apple_Ad_1.mp3\", \"Apple_Ad_2.mp3\", \"Radio_Shack_ad.mp3\"]\n",
    "    genai_client = setup_genai()\n",
    "    analysis_results = analyze_audio_ads(audio_ad_paths, genai_client)\n",
    "    \n",
    "    ad_script = generate_ad_script(analysis_results, context)\n",
    "    print(\"Generated Ad Script:\")\n",
    "    print(ad_script)\n",
    "    \n",
    "    output_path = \"generated_ad_script.txt\"\n",
    "    save_ad_script(ad_script, output_path)"
   ]
  }
 ],
 "metadata": {
  "kernelspec": {
   "display_name": "Python 3",
   "language": "python",
   "name": "python3"
  },
  "language_info": {
   "codemirror_mode": {
    "name": "ipython",
    "version": 3
   },
   "file_extension": ".py",
   "mimetype": "text/x-python",
   "name": "python",
   "nbconvert_exporter": "python",
   "pygments_lexer": "ipython3",
   "version": "3.11.5"
  }
 },
 "nbformat": 4,
 "nbformat_minor": 2
}
