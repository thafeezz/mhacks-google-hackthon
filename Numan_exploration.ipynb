{
 "cells": [
  {
   "cell_type": "code",
   "execution_count": 1,
   "metadata": {},
   "outputs": [],
   "source": [
    "import google.generativeai as genai\n",
    "from dotenv import load_dotenv\n",
    "import os\n",
    "import logging\n",
    "import requests\n",
    "import json\n",
    "import pandas as pd"
   ]
  },
  {
   "cell_type": "code",
   "execution_count": 6,
   "metadata": {},
   "outputs": [],
   "source": [
    "# Load environment variables from .env file\n",
    "load_dotenv()\n",
    "\n",
    "# Configure logging\n",
    "logging.basicConfig(level=logging.INFO)\n",
    "\n",
    "# Retrieve your API keys from environment variables\n",
    "GOOGLE_API_KEY = os.getenv('GOOGLE_API_KEY')\n",
    "\n",
    "genai.configure(api_key=GOOGLE_API_KEY)"
   ]
  },
  {
   "cell_type": "code",
   "execution_count": 7,
   "metadata": {},
   "outputs": [],
   "source": [
    "URL = \"https://storage.googleapis.com/generativeai-downloads/data/State_of_the_Union_Address_30_January_1961.mp3\""
   ]
  },
  {
   "cell_type": "code",
   "execution_count": 8,
   "metadata": {},
   "outputs": [],
   "source": [
    "!wget -q $URL -O sample.mp3"
   ]
  },
  {
   "cell_type": "code",
   "execution_count": 9,
   "metadata": {},
   "outputs": [],
   "source": [
    "your_file = genai.upload_file(path='sample.mp3')"
   ]
  },
  {
   "cell_type": "code",
   "execution_count": 10,
   "metadata": {},
   "outputs": [
    {
     "name": "stdout",
     "output_type": "stream",
     "text": [
      "## Summary of President John F. Kennedy's 1961 State of the Union Address:\n",
      "\n",
      "**Domestic Issues:**\n",
      "\n",
      "*   Kennedy expresses concern about the state of the American economy, highlighting issues such as recession, unemployment, falling farm income, and rising prices. He proposes measures to address these problems, including:\n",
      "    *   Improved unemployment compensation\n",
      "    *   Aid for families of the unemployed\n",
      "    *   Redevelopment of areas with chronic labor surplus\n",
      "    *   Stimulation of housing and construction\n",
      "    *   Increased minimum wage\n",
      "    *   Tax incentives for plant investment\n",
      "    *   Development of natural resources\n",
      "    *   Improved education through federal grants and a focus on science and technology\n",
      "\n",
      "**International Challenges:**\n",
      "\n",
      "*   Kennedy acknowledges the numerous international challenges facing the nation, including:\n",
      "    *   The threat of communism in Asia, Africa, and Latin America\n",
      "    *   The instability in the Congo and Laos\n",
      "    *   The rise of communist Cuba\n",
      "    *   Disunity within NATO and economic rivalry among allies\n",
      "\n",
      "**Proposed Solutions:**\n",
      "\n",
      "*   Kennedy emphasizes the need to strengthen the nation's military and economic tools to confront these challenges. He proposes:\n",
      "    *   Reappraisal of the entire defense strategy and modernization of forces\n",
      "    *   Increased investment in the Polaris submarine and missile programs\n",
      "    *   Establishment of a new foreign aid program for economic and social development\n",
      "    *   Formation of a National Peace Corps\n",
      "    *   Exploration of cooperation with the Soviet Union in areas like weather prediction and space exploration\n",
      "    *   Increased support for the United Nations\n",
      "\n",
      "**Overall Tone and Message:**\n",
      "\n",
      "*   Kennedy acknowledges the severity of the challenges faced by the nation but emphasizes the importance of facing them with courage and determination. He calls for unity and dedication from all Americans to overcome these obstacles and ensure the nation's security and prosperity. He stresses the importance of balancing military strength with diplomatic efforts and emphasizes America's commitment to freedom and world peace. \n",
      "\n"
     ]
    }
   ],
   "source": [
    "prompt = \"Listen carefully to the following audio file. Provide a brief summary.\"\n",
    "model = genai.GenerativeModel('models/gemini-1.5-pro-latest')\n",
    "response = model.generate_content([prompt, your_file])\n",
    "print(response.text)"
   ]
  }
 ],
 "metadata": {
  "kernelspec": {
   "display_name": "Python 3",
   "language": "python",
   "name": "python3"
  },
  "language_info": {
   "codemirror_mode": {
    "name": "ipython",
    "version": 3
   },
   "file_extension": ".py",
   "mimetype": "text/x-python",
   "name": "python",
   "nbconvert_exporter": "python",
   "pygments_lexer": "ipython3",
   "version": "3.11.5"
  }
 },
 "nbformat": 4,
 "nbformat_minor": 2
}
