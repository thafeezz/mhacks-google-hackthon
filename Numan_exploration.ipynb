{
 "cells": [
  {
   "cell_type": "code",
   "execution_count": 14,
   "metadata": {},
   "outputs": [],
   "source": [
    "import google.generativeai as genai\n",
    "from dotenv import load_dotenv\n",
    "import os\n",
    "import logging\n",
    "import requests\n",
    "import json\n",
    "import pandas as pd\n",
    "\n",
    "# Load environment variables\n",
    "load_dotenv()\n",
    "\n",
    "# Configure logging\n",
    "logging.basicConfig(level=logging.INFO)"
   ]
  },
  {
   "cell_type": "code",
   "execution_count": 15,
   "metadata": {},
   "outputs": [],
   "source": [
    "def setup_genai():\n",
    "    google_api_key = os.getenv('GOOGLE_API_KEY')\n",
    "    if not google_api_key:\n",
    "        logging.error(\"Google API key is not set.\")\n",
    "        raise ValueError(\"Google API key is not set.\")\n",
    "    genai.configure(api_key=google_api_key)\n",
    "    return genai\n",
    "\n",
    "def download_file(url, destination):\n",
    "    try:\n",
    "        response = requests.get(url)\n",
    "        response.raise_for_status()  # Raises an HTTPError for bad responses\n",
    "        with open(destination, 'wb') as f:\n",
    "            f.write(response.content)\n",
    "        logging.info(f\"File downloaded successfully: {destination}\")\n",
    "    except requests.RequestException as e:\n",
    "        logging.error(f\"Failed to download file: {e}\")\n",
    "        raise\n",
    "\n",
    "def generate_content_from_audio(file_path, prompt):\n",
    "    genai_client = setup_genai()\n",
    "    try:\n",
    "        file_handle = genai_client.upload_file(path=file_path)\n",
    "        model = genai_client.GenerativeModel('models/gemini-1.5-pro-latest')\n",
    "        response = model.generate_content([prompt, file_handle])\n",
    "        return response.text\n",
    "    except Exception as e:\n",
    "        logging.error(f\"Error generating content: {e}\")\n",
    "        raise"
   ]
  },
  {
   "cell_type": "code",
   "execution_count": 16,
   "metadata": {},
   "outputs": [
    {
     "name": "stderr",
     "output_type": "stream",
     "text": [
      "INFO:root:File downloaded successfully: sample.mp3\n"
     ]
    }
   ],
   "source": [
    "# Cell 3: Download Audio File\n",
    "URL = \"https://storage.googleapis.com/generativeai-downloads/data/State_of_the_Union_Address_30_January_1961.mp3\"\n",
    "FILE_PATH = \"sample.mp3\"\n",
    "download_file(URL, FILE_PATH)"
   ]
  },
  {
   "cell_type": "code",
   "execution_count": 17,
   "metadata": {},
   "outputs": [
    {
     "name": "stdout",
     "output_type": "stream",
     "text": [
      "## Summary of President Kennedy's State of the Union Address (January 30, 1961)\n",
      "\n",
      "President John F. Kennedy addressed a joint session of Congress, highlighting the challenges and opportunities facing the nation both domestically and internationally. He acknowledged the economic troubles of the time, including a recession, high unemployment rates, and declining farm income. \n",
      "\n",
      "He pledged to take action to stimulate the economy and improve the lives of Americans, mentioning plans for:\n",
      "\n",
      "* **Economic Stimulus:** Measures to improve unemployment compensation, provide food assistance, redevelop areas with labor surplus, and raise the minimum wage.\n",
      "* **Education:** Expanding federal grants for education and addressing the shortage of classrooms and qualified teachers.\n",
      "* **Healthcare:**  Providing health care for the aged under Social Security and addressing the lack of hospital beds and medical personnel.\n",
      "* **Infrastructure and Resources:**  Investing in clean water supplies, urban development, and natural resources. \n",
      "* **Civil Rights:** Addressing the denial of constitutional rights to some Americans based on race.\n",
      "\n",
      "On the international front, President Kennedy emphasized the need to strengthen alliances and meet the challenges posed by the Soviet Union and Communist China.  He specifically outlined plans to:\n",
      "\n",
      "* **Military Strength:**  Reappraising the nation's defense strategy and increasing airlift capacity, the Polaris submarine program, and missile programs. \n",
      "* **Economic Cooperation:** Establishing a new program for assisting the economic and social development of other countries, similar to the Marshall Plan. \n",
      "* **Diplomacy:** Strengthening the United Nations and exploring opportunities for cooperation with the Soviet Union and other nations in areas such as weather prediction, communications, and space exploration. \n",
      "* **Latin America:** Launching a new Alliance for Progress to support economic and social development in Latin America and combat communist influence.\n",
      "* **Eastern Europe:**  Seeking ways to re-establish ties with Eastern European nations and support their hopes for freedom and welfare.\n",
      "\n",
      "President Kennedy concluded by calling for national unity and dedication to overcoming the challenges ahead. He expressed his belief in the strength and resilience of the American people and their ability to build a better future for themselves and the world. \n",
      "\n"
     ]
    }
   ],
   "source": [
    "PROMPT = \"Listen carefully to the following audio file. Provide a brief summary.\"\n",
    "try:\n",
    "    result = generate_content_from_audio(FILE_PATH, PROMPT)\n",
    "    print(result)\n",
    "except Exception as e:\n",
    "    print(f\"An error occurred: {e}\")"
   ]
  }
 ],
 "metadata": {
  "kernelspec": {
   "display_name": "Python 3",
   "language": "python",
   "name": "python3"
  },
  "language_info": {
   "codemirror_mode": {
    "name": "ipython",
    "version": 3
   },
   "file_extension": ".py",
   "mimetype": "text/x-python",
   "name": "python",
   "nbconvert_exporter": "python",
   "pygments_lexer": "ipython3",
   "version": "3.11.5"
  }
 },
 "nbformat": 4,
 "nbformat_minor": 2
}
